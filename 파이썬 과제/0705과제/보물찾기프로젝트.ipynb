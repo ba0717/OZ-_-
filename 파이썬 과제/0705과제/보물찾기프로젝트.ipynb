{
 "cells": [
  {
   "cell_type": "code",
   "execution_count": 1,
   "metadata": {},
   "outputs": [
    {
     "name": "stdout",
     "output_type": "stream",
     "text": [
      "현재 위치: (1, 2)\n",
      "보물까지의 거리: 2\n",
      "현재 위치: (0, 2)\n",
      "보물까지의 거리: 3\n",
      "현재 위치: (0, 2)\n",
      "보물까지의 거리: 3\n",
      "현재 위치: (1, 2)\n",
      "보물까지의 거리: 2\n",
      "잘못된 방향입니다. N, S, E, W 중 하나를 입력해주세요.\n",
      "현재 위치: (1, 2)\n",
      "보물까지의 거리: 2\n"
     ]
    }
   ],
   "source": [
    "# 너무 어려워요 ... 정답코드 확인하고 이해할려고 하고 있습니다 \n",
    "\n",
    "import random\n",
    "\n",
    "def initialize_game(n):\n",
    "    return n, (random.randint(0, n-1), random.randint(0, n-1)), (random.randint(0, n-1), random.randint(0, n-1))\n",
    "\n",
    "def move_player(board_size, player_position, direction):\n",
    "    x, y = player_position\n",
    "    if direction == 'N':\n",
    "        x = max(x-1, 0)\n",
    "    elif direction == 'S':\n",
    "        x = min(x+1, board_size-1)\n",
    "    elif direction == 'E':\n",
    "        y = min(y+1, board_size-1)\n",
    "    elif direction == 'W':\n",
    "        y = max(y-1, 0)\n",
    "    return x, y\n",
    "\n",
    "def calculate_distance(treasure_position, player_position):\n",
    "    return abs(treasure_position[0] - player_position[0]) + abs(treasure_position[1] - player_position[1])\n",
    "\n",
    "def play_game(board_size):\n",
    "    _, treasure_position, player_position = initialize_game(board_size)\n",
    "    moves = 0\n",
    "    \n",
    "    while True:\n",
    "        print(f\"현재 위치: {player_position}\")\n",
    "        distance = calculate_distance(treasure_position, player_position)\n",
    "        print(f\"보물까지의 거리: {distance}\")\n",
    "        \n",
    "        if distance == 0:\n",
    "            print(f\"보물을 찾았습니다! 이동 횟수: {moves}\")\n",
    "            break\n",
    "\n",
    "        direction = input(\"이동 방향을 선택하세요 (N, S, E, W): \").upper()\n",
    "        if direction in ['N', 'S', 'E', 'W']:\n",
    "            player_position = move_player(board_size, player_position, direction)\n",
    "            moves += 1\n",
    "        else:\n",
    "            print(\"잘못된 방향입니다. N, S, E, W 중 하나를 입력해주세요.\")\n",
    "\n",
    "if __name__ == \"__main__\":\n",
    "    play_game(5)"
   ]
  }
 ],
 "metadata": {
  "kernelspec": {
   "display_name": "Python 3",
   "language": "python",
   "name": "python3"
  },
  "language_info": {
   "codemirror_mode": {
    "name": "ipython",
    "version": 3
   },
   "file_extension": ".py",
   "mimetype": "text/x-python",
   "name": "python",
   "nbconvert_exporter": "python",
   "pygments_lexer": "ipython3",
   "version": "3.9.6"
  }
 },
 "nbformat": 4,
 "nbformat_minor": 2
}
