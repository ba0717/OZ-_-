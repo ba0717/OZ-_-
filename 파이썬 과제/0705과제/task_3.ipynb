{
 "cells": [
  {
   "cell_type": "markdown",
   "metadata": {},
   "source": [
    "사용자로부터 여러 개의 숫자를 입력받아 리스트에 저장한 후, 사용자가 'done'이라고 입력할 때까지 계속 입력받으세요. \n",
    "\n",
    "- 입력 중 숫자가 아닌 값이 입력되면 ValueError를 처리\n",
    "- 숫자 외 값이 입력된 경우 어떤 값이 잘못 입력되었는지 사용자에게 알려주는 문구 출력<br>\n",
    "  (예: f\"잘못된 값: {변수}. 숫자를 입력해주세요.\")\n",
    "\n"
   ]
  },
  {
   "cell_type": "code",
   "execution_count": 1,
   "metadata": {},
   "outputs": [],
   "source": [
    "def 리스트_받기 ():\n",
    "    숫자들 = []\n",
    "\n",
    "    while True:\n",
    "        사용자입력 = input(\"숫자를 입력하세요 (종료하려면 'done' 입력): \")\n",
    "\n",
    "        if 사용자입력 == 'done' :\n",
    "            break\n",
    "\n",
    "        try:\n",
    "            숫자 = int(사용자입력)\n",
    "            숫자들.append(숫자)\n",
    "        except ValueError:\n",
    "            print(f\"잘못된 값: {사용자입력}. 다시 입력해주세요.\")\n",
    "\n",
    "    return 숫자들             \n",
    "\n"
   ]
  },
  {
   "cell_type": "code",
   "execution_count": 2,
   "metadata": {},
   "outputs": [],
   "source": [
    "결과 = 리스트_받기()"
   ]
  },
  {
   "cell_type": "markdown",
   "metadata": {},
   "source": []
  },
  {
   "cell_type": "code",
   "execution_count": 3,
   "metadata": {},
   "outputs": [
    {
     "name": "stdout",
     "output_type": "stream",
     "text": [
      "입력된 숫자 리스트: [1, 2, 3, 5, 1, 3, 3, 5, 6, 6, 6, 4, 3, 33]\n"
     ]
    }
   ],
   "source": [
    "print(\"입력된 숫자 리스트:\", 결과)"
   ]
  },
  {
   "cell_type": "code",
   "execution_count": null,
   "metadata": {},
   "outputs": [],
   "source": []
  }
 ],
 "metadata": {
  "kernelspec": {
   "display_name": "Python 3",
   "language": "python",
   "name": "python3"
  },
  "language_info": {
   "codemirror_mode": {
    "name": "ipython",
    "version": 3
   },
   "file_extension": ".py",
   "mimetype": "text/x-python",
   "name": "python",
   "nbconvert_exporter": "python",
   "pygments_lexer": "ipython3",
   "version": "3.9.6"
  }
 },
 "nbformat": 4,
 "nbformat_minor": 2
}
