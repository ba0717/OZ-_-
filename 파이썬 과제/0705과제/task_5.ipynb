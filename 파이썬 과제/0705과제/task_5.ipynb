{
 "cells": [
  {
   "cell_type": "markdown",
   "metadata": {},
   "source": [
    "datetime 모듈을 사용하여 현재 날짜와 시간을 출력하는 프로그램을 작성하세요. \n",
    "\n",
    "또한, 사용자로부터 태어난 년도를 입력받아 현재 나이를 계산하여 출력하세요."
   ]
  },
  {
   "cell_type": "code",
   "execution_count": 18,
   "metadata": {},
   "outputs": [],
   "source": [
    "import datetime\n",
    "\n",
    "def 현재_날짜_시간():\n",
    "    현재시간 = datetime.datetime.now()\n",
    "    print(f\"현재 날짜와 시간은? {현재시간}\")\n",
    "\n",
    "def 나이계산():\n",
    "    try:\n",
    "        출생년도 = int(input(\"출생년도를 알려줘\"))\n",
    "        현재년도 = datetime.datetime.now().year\n",
    "        나이 = 현재년도 - 출생년도 + 1\n",
    "        if 나이 < 0 :\n",
    "            print(\"미래에서 태어날 순 없어\")\n",
    "        else:    \n",
    "            print(f\"현재 나이 : {나이}세\")\n",
    "    except ValueError:\n",
    "        print(\"잘못 입력했어! 숫자로 알려줘\")"
   ]
  },
  {
   "cell_type": "code",
   "execution_count": 19,
   "metadata": {},
   "outputs": [
    {
     "name": "stdout",
     "output_type": "stream",
     "text": [
      "현재 날짜와 시간은? 2024-07-05 18:08:13.363969\n",
      "현재 나이 : 27세\n"
     ]
    }
   ],
   "source": [
    "현재_날짜_시간()\n",
    "나이계산()"
   ]
  },
  {
   "cell_type": "code",
   "execution_count": 20,
   "metadata": {},
   "outputs": [
    {
     "name": "stdout",
     "output_type": "stream",
     "text": [
      "현재 나이 : 0세\n"
     ]
    }
   ],
   "source": [
    "나이계산()"
   ]
  },
  {
   "cell_type": "code",
   "execution_count": 21,
   "metadata": {},
   "outputs": [
    {
     "name": "stdout",
     "output_type": "stream",
     "text": [
      "미래에서 태어날 순 없어\n"
     ]
    }
   ],
   "source": [
    "나이계산()"
   ]
  },
  {
   "cell_type": "code",
   "execution_count": null,
   "metadata": {},
   "outputs": [],
   "source": []
  }
 ],
 "metadata": {
  "kernelspec": {
   "display_name": "Python 3",
   "language": "python",
   "name": "python3"
  },
  "language_info": {
   "codemirror_mode": {
    "name": "ipython",
    "version": 3
   },
   "file_extension": ".py",
   "mimetype": "text/x-python",
   "name": "python",
   "nbconvert_exporter": "python",
   "pygments_lexer": "ipython3",
   "version": "3.9.6"
  }
 },
 "nbformat": 4,
 "nbformat_minor": 2
}
