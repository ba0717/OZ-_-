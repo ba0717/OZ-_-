{
 "cells": [
  {
   "cell_type": "markdown",
   "metadata": {},
   "source": [
    "사용자로부터 3개의 숫자를 입력받아, 이를 튜플로 만든 후 최소값과 최대값을 출력하는 함수 min_max를 작성하세요."
   ]
  },
  {
   "cell_type": "markdown",
   "metadata": {},
   "source": []
  },
  {
   "cell_type": "code",
   "execution_count": 1,
   "metadata": {},
   "outputs": [],
   "source": [
    "def min_max():\n",
    "  \n",
    "    숫자1 = int(input(\"첫 번째 숫자를 입력하세요: \"))\n",
    "    숫자2 = int(input(\"두 번째 숫자를 입력하세요: \"))\n",
    "    숫자3 = int(input(\"세 번째 숫자를 입력하세요: \"))\n",
    "\n",
    "    숫자_튜플 = (숫자1, 숫자2, 숫자3)\n",
    "\n",
    "    최소값 = min(숫자_튜플)\n",
    "    최대값 = max(숫자_튜플)\n",
    "\n",
    "    print(f\"입력받은 숫자: {숫자_튜플}\")\n",
    "    print(f\"최소값: {최소값}, 최대값: {최대값}\")"
   ]
  },
  {
   "cell_type": "code",
   "execution_count": 2,
   "metadata": {},
   "outputs": [
    {
     "name": "stdout",
     "output_type": "stream",
     "text": [
      "입력받은 숫자: (7, 19, 15)\n",
      "최소값: 7, 최대값: 19\n"
     ]
    }
   ],
   "source": [
    "min_max()"
   ]
  }
 ],
 "metadata": {
  "kernelspec": {
   "display_name": "Python 3",
   "language": "python",
   "name": "python3"
  },
  "language_info": {
   "codemirror_mode": {
    "name": "ipython",
    "version": 3
   },
   "file_extension": ".py",
   "mimetype": "text/x-python",
   "name": "python",
   "nbconvert_exporter": "python",
   "pygments_lexer": "ipython3",
   "version": "3.9.6"
  }
 },
 "nbformat": 4,
 "nbformat_minor": 2
}
